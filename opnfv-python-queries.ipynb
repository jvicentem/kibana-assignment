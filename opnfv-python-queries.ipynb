{
 "cells": [
  {
   "cell_type": "code",
   "execution_count": 43,
   "metadata": {
    "collapsed": false
   },
   "outputs": [],
   "source": [
    "%matplotlib inline\n",
    "\n",
    "import numpy as np\n",
    "import pandas as pd\n",
    "from elasticsearch import Elasticsearch\n",
    "from elasticsearch_dsl import Q, Search\n",
    "from datetime import datetime\n",
    "\n",
    "client = Elasticsearch([\"http://127.0.0.1:9200\"])\n",
    "\n",
    "INDEX = \"openfv\""
   ]
  },
  {
   "cell_type": "markdown",
   "metadata": {},
   "source": [
    "# COMMITS BY REPO"
   ]
  },
  {
   "cell_type": "code",
   "execution_count": 180,
   "metadata": {
    "collapsed": false,
    "scrolled": true
   },
   "outputs": [
    {
     "data": {
      "text/html": [
       "<div>\n",
       "<table border=\"1\" class=\"dataframe\">\n",
       "  <thead>\n",
       "    <tr style=\"text-align: right;\">\n",
       "      <th></th>\n",
       "      <th>commits</th>\n",
       "      <th>repo</th>\n",
       "    </tr>\n",
       "  </thead>\n",
       "  <tbody>\n",
       "    <tr>\n",
       "      <th>0</th>\n",
       "      <td>2472</td>\n",
       "      <td>git://git.opnfv.org/releng</td>\n",
       "    </tr>\n",
       "    <tr>\n",
       "      <th>1</th>\n",
       "      <td>1800</td>\n",
       "      <td>git://git.opnfv.org/functest</td>\n",
       "    </tr>\n",
       "    <tr>\n",
       "      <th>2</th>\n",
       "      <td>968</td>\n",
       "      <td>git://git.opnfv.org/armband</td>\n",
       "    </tr>\n",
       "    <tr>\n",
       "      <th>3</th>\n",
       "      <td>908</td>\n",
       "      <td>git://git.opnfv.org/yardstick</td>\n",
       "    </tr>\n",
       "    <tr>\n",
       "      <th>4</th>\n",
       "      <td>847</td>\n",
       "      <td>git://git.opnfv.org/apex</td>\n",
       "    </tr>\n",
       "    <tr>\n",
       "      <th>5</th>\n",
       "      <td>776</td>\n",
       "      <td>git://git.opnfv.org/fuel</td>\n",
       "    </tr>\n",
       "    <tr>\n",
       "      <th>6</th>\n",
       "      <td>743</td>\n",
       "      <td>git://git.opnfv.org/compass4nfv</td>\n",
       "    </tr>\n",
       "    <tr>\n",
       "      <th>7</th>\n",
       "      <td>722</td>\n",
       "      <td>git://git.opnfv.org/joid</td>\n",
       "    </tr>\n",
       "    <tr>\n",
       "      <th>8</th>\n",
       "      <td>476</td>\n",
       "      <td>git://git.opnfv.org/vswitchperf</td>\n",
       "    </tr>\n",
       "    <tr>\n",
       "      <th>9</th>\n",
       "      <td>456</td>\n",
       "      <td>git://git.opnfv.org/qtip</td>\n",
       "    </tr>\n",
       "  </tbody>\n",
       "</table>\n",
       "</div>"
      ],
      "text/plain": [
       "   commits                             repo\n",
       "0     2472       git://git.opnfv.org/releng\n",
       "1     1800     git://git.opnfv.org/functest\n",
       "2      968      git://git.opnfv.org/armband\n",
       "3      908    git://git.opnfv.org/yardstick\n",
       "4      847         git://git.opnfv.org/apex\n",
       "5      776         git://git.opnfv.org/fuel\n",
       "6      743  git://git.opnfv.org/compass4nfv\n",
       "7      722         git://git.opnfv.org/joid\n",
       "8      476  git://git.opnfv.org/vswitchperf\n",
       "9      456         git://git.opnfv.org/qtip"
      ]
     },
     "execution_count": 180,
     "metadata": {},
     "output_type": "execute_result"
    }
   ],
   "source": [
    "s = Search(using=client, index=INDEX).filter('range', files={'gt':0})\n",
    "s.aggs.bucket('by_repo', 'terms', field='repo_name').metric('commits', 'cardinality', field='hash')\n",
    "result = s.execute()\n",
    "\n",
    "buckets = result.to_dict()[\"aggregations\"]['by_repo']['buckets']\n",
    "\n",
    "commits_by_repo = [{'commits': i['commits']['value'], 'repo': i['key']} for i in buckets ]\n",
    "\n",
    "pd.DataFrame(commits_by_repo)\n"
   ]
  },
  {
   "cell_type": "markdown",
   "metadata": {},
   "source": [
    "# MERGE COMMITS BY REPO"
   ]
  },
  {
   "cell_type": "code",
   "execution_count": 29,
   "metadata": {
    "collapsed": false,
    "scrolled": true
   },
   "outputs": [
    {
     "data": {
      "text/html": [
       "<div>\n",
       "<table border=\"1\" class=\"dataframe\">\n",
       "  <thead>\n",
       "    <tr style=\"text-align: right;\">\n",
       "      <th></th>\n",
       "      <th>commits</th>\n",
       "      <th>repo</th>\n",
       "    </tr>\n",
       "  </thead>\n",
       "  <tbody>\n",
       "    <tr>\n",
       "      <th>0</th>\n",
       "      <td>825</td>\n",
       "      <td>git://git.opnfv.org/releng</td>\n",
       "    </tr>\n",
       "    <tr>\n",
       "      <th>1</th>\n",
       "      <td>502</td>\n",
       "      <td>git://git.opnfv.org/functest</td>\n",
       "    </tr>\n",
       "    <tr>\n",
       "      <th>2</th>\n",
       "      <td>316</td>\n",
       "      <td>git://git.opnfv.org/yardstick</td>\n",
       "    </tr>\n",
       "    <tr>\n",
       "      <th>3</th>\n",
       "      <td>288</td>\n",
       "      <td>git://git.opnfv.org/apex</td>\n",
       "    </tr>\n",
       "    <tr>\n",
       "      <th>4</th>\n",
       "      <td>286</td>\n",
       "      <td>git://git.opnfv.org/fuel</td>\n",
       "    </tr>\n",
       "    <tr>\n",
       "      <th>5</th>\n",
       "      <td>283</td>\n",
       "      <td>git://git.opnfv.org/compass4nfv</td>\n",
       "    </tr>\n",
       "    <tr>\n",
       "      <th>6</th>\n",
       "      <td>234</td>\n",
       "      <td>git://git.opnfv.org/qtip</td>\n",
       "    </tr>\n",
       "    <tr>\n",
       "      <th>7</th>\n",
       "      <td>134</td>\n",
       "      <td>git://git.opnfv.org/armband</td>\n",
       "    </tr>\n",
       "    <tr>\n",
       "      <th>8</th>\n",
       "      <td>118</td>\n",
       "      <td>git://git.opnfv.org/genesis</td>\n",
       "    </tr>\n",
       "    <tr>\n",
       "      <th>9</th>\n",
       "      <td>97</td>\n",
       "      <td>git://git.opnfv.org/vswitchperf</td>\n",
       "    </tr>\n",
       "  </tbody>\n",
       "</table>\n",
       "</div>"
      ],
      "text/plain": [
       "   commits                             repo\n",
       "0      825       git://git.opnfv.org/releng\n",
       "1      502     git://git.opnfv.org/functest\n",
       "2      316    git://git.opnfv.org/yardstick\n",
       "3      288         git://git.opnfv.org/apex\n",
       "4      286         git://git.opnfv.org/fuel\n",
       "5      283  git://git.opnfv.org/compass4nfv\n",
       "6      234         git://git.opnfv.org/qtip\n",
       "7      134      git://git.opnfv.org/armband\n",
       "8      118      git://git.opnfv.org/genesis\n",
       "9       97  git://git.opnfv.org/vswitchperf"
      ]
     },
     "execution_count": 29,
     "metadata": {},
     "output_type": "execute_result"
    }
   ],
   "source": [
    "s = Search(using=client, index=INDEX).filter('range', files={'lt': 1})\n",
    "s.aggs.bucket('by_repo', 'terms', field='repo_name').metric('commits', 'cardinality', field='hash')\n",
    "result = s.execute()\n",
    "\n",
    "buckets = result.to_dict()[\"aggregations\"]['by_repo']['buckets']\n",
    "\n",
    "commits_by_repo = [{'commits': i['commits']['value'], 'repo': i['key']} for i in buckets ]\n",
    "\n",
    "pd.DataFrame(commits_by_repo)"
   ]
  },
  {
   "cell_type": "markdown",
   "metadata": {},
   "source": [
    "# COMMITS (MERGES) TO MASTER/STABLE BRANCHES BY REPO"
   ]
  },
  {
   "cell_type": "code",
   "execution_count": 172,
   "metadata": {
    "collapsed": false
   },
   "outputs": [
    {
     "data": {
      "text/html": [
       "<div>\n",
       "<table border=\"1\" class=\"dataframe\">\n",
       "  <thead>\n",
       "    <tr style=\"text-align: right;\">\n",
       "      <th></th>\n",
       "      <th>commits</th>\n",
       "      <th>repo</th>\n",
       "    </tr>\n",
       "  </thead>\n",
       "  <tbody>\n",
       "    <tr>\n",
       "      <th>0</th>\n",
       "      <td>73</td>\n",
       "      <td>git://git.opnfv.org/fuel</td>\n",
       "    </tr>\n",
       "    <tr>\n",
       "      <th>1</th>\n",
       "      <td>54</td>\n",
       "      <td>git://git.opnfv.org/apex</td>\n",
       "    </tr>\n",
       "    <tr>\n",
       "      <th>2</th>\n",
       "      <td>41</td>\n",
       "      <td>git://git.opnfv.org/compass4nfv</td>\n",
       "    </tr>\n",
       "    <tr>\n",
       "      <th>3</th>\n",
       "      <td>30</td>\n",
       "      <td>git://git.opnfv.org/armband</td>\n",
       "    </tr>\n",
       "    <tr>\n",
       "      <th>4</th>\n",
       "      <td>30</td>\n",
       "      <td>git://git.opnfv.org/functest</td>\n",
       "    </tr>\n",
       "    <tr>\n",
       "      <th>5</th>\n",
       "      <td>27</td>\n",
       "      <td>git://git.opnfv.org/releng</td>\n",
       "    </tr>\n",
       "    <tr>\n",
       "      <th>6</th>\n",
       "      <td>15</td>\n",
       "      <td>git://git.opnfv.org/yardstick</td>\n",
       "    </tr>\n",
       "    <tr>\n",
       "      <th>7</th>\n",
       "      <td>14</td>\n",
       "      <td>git://git.opnfv.org/copper</td>\n",
       "    </tr>\n",
       "    <tr>\n",
       "      <th>8</th>\n",
       "      <td>12</td>\n",
       "      <td>git://git.opnfv.org/qtip</td>\n",
       "    </tr>\n",
       "    <tr>\n",
       "      <th>9</th>\n",
       "      <td>11</td>\n",
       "      <td>git://git.opnfv.org/genesis</td>\n",
       "    </tr>\n",
       "  </tbody>\n",
       "</table>\n",
       "</div>"
      ],
      "text/plain": [
       "   commits                             repo\n",
       "0       73         git://git.opnfv.org/fuel\n",
       "1       54         git://git.opnfv.org/apex\n",
       "2       41  git://git.opnfv.org/compass4nfv\n",
       "3       30      git://git.opnfv.org/armband\n",
       "4       30     git://git.opnfv.org/functest\n",
       "5       27       git://git.opnfv.org/releng\n",
       "6       15    git://git.opnfv.org/yardstick\n",
       "7       14       git://git.opnfv.org/copper\n",
       "8       12         git://git.opnfv.org/qtip\n",
       "9       11      git://git.opnfv.org/genesis"
      ]
     },
     "execution_count": 172,
     "metadata": {},
     "output_type": "execute_result"
    }
   ],
   "source": [
    "q = Q('bool', \n",
    "      should=[Q('match', message_analyzed='stable'), Q('match', message_analyzed='master')])\n",
    "s = Search(using=client, index=INDEX).query(q).filter('range', files={'lt': 1})\n",
    "\n",
    "s.aggs.bucket('by_repo', 'terms', field='repo_name', size=10).metric('commits', 'cardinality', field='hash')\n",
    "result = s.execute()\n",
    "\n",
    "buckets = result.to_dict()[\"aggregations\"]['by_repo']['buckets']\n",
    "\n",
    "commits_by_repo = [{'commits': i['commits']['value'], 'repo': i['key']} for i in buckets]\n",
    "\n",
    "merges_to_master = pd.DataFrame(commits_by_repo)\n",
    "\n",
    "first_ten_repos = list(merges_to_master['repo'])\n",
    "\n",
    "merges_to_master"
   ]
  },
  {
   "cell_type": "markdown",
   "metadata": {},
   "source": [
    "Como podemos ver, el ranking de repositorios en función de los merge a ramas master o stable cambia bastante. \n",
    "\n",
    "Consideramos que este ranking puede ser interesante ya que cuando se trabaja con ramas master o stable se está trabajando con versiones de producción, ya bien sea para pasar una nueva funcionalidad a producción, crear nuevas funcionalidades en otras ramas o arreglar bugs."
   ]
  },
  {
   "cell_type": "markdown",
   "metadata": {},
   "source": [
    "# REPO THAT MERGES FASTER TO MASTER/STABLE BRANCH"
   ]
  },
  {
   "cell_type": "code",
   "execution_count": 175,
   "metadata": {
    "collapsed": false
   },
   "outputs": [
    {
     "name": "stdout",
     "output_type": "stream",
     "text": [
      "Average day diff by repo\n",
      "repo\n",
      "git://git.opnfv.org/fuel            5.777752\n",
      "git://git.opnfv.org/apex            7.722825\n",
      "git://git.opnfv.org/compass4nfv    10.765165\n",
      "git://git.opnfv.org/armband        11.015622\n",
      "git://git.opnfv.org/copper         12.905901\n",
      "git://git.opnfv.org/functest       14.284831\n",
      "git://git.opnfv.org/genesis        19.286286\n",
      "git://git.opnfv.org/releng         25.009750\n",
      "git://git.opnfv.org/yardstick      27.967160\n",
      "git://git.opnfv.org/qtip           39.278572\n",
      "Name: diff, dtype: float64\n",
      "\n",
      " Median day diff by repo\n",
      "repo\n",
      "git://git.opnfv.org/qtip            0.007211\n",
      "git://git.opnfv.org/compass4nfv     0.069196\n",
      "git://git.opnfv.org/copper          0.187986\n",
      "git://git.opnfv.org/fuel            0.346453\n",
      "git://git.opnfv.org/apex            0.770671\n",
      "git://git.opnfv.org/armband         2.161215\n",
      "git://git.opnfv.org/yardstick       2.421655\n",
      "git://git.opnfv.org/functest        2.834387\n",
      "git://git.opnfv.org/genesis         3.821493\n",
      "git://git.opnfv.org/releng         16.340521\n",
      "Name: diff, dtype: float64\n"
     ]
    }
   ],
   "source": [
    "q = Q('bool', should=[Q('match', message_analyzed='stable'), Q('match', message_analyzed='master')])\n",
    "s = Search(using=client, index=INDEX).query(q).filter('range', files={'lt': 1})\n",
    "count = s.count()\n",
    "result = s[0:count].execute()\n",
    "\n",
    "date_and_repo_name = [{'date': np.datetime64(i['_source']['utc_commit']), 'repo': i['_source']['repo_name']} \n",
    "                       for i in result[\"hits\"][\"hits\"]]\n",
    "\n",
    "df = pd.DataFrame(date_and_repo_name)\n",
    "\n",
    "df = df[df['repo'].isin(first_ten_repos)]\n",
    "\n",
    "df['diff'] = (df.sort_values(by='date')\n",
    " .groupby('repo')\n",
    " .diff()\n",
    ") \n",
    "\n",
    "df['diff'] = df['diff'] / np.timedelta64(1, 'D')\n",
    "\n",
    "print('Average day diff by repo')\n",
    "print(df.groupby('repo')['diff'].mean().sort_values(inplace=False))\n",
    "\n",
    "print('\\n Median day diff by repo')\n",
    "print(df.groupby('repo')['diff'].median().sort_values(inplace=False))"
   ]
  },
  {
   "cell_type": "markdown",
   "metadata": {},
   "source": [
    "Aquí se puede ver la diferencia de días media (arriba) y mediana (abajo) para cada repositorio. Sólo se han tenido en cuenta los 10 primeros repositorios, que son los que se muestran en la tabla anterior a estas.\n",
    "\n",
    "En la tabla de las medias, se aprecia que no cambia mucho con respecto a la del número de merges de master/stable, pero si nos fijamos en la tabla de las medianas hay cambios en las primeras posiciones. \n",
    "\n",
    "El primer repositorio que aparece en la tabla de las medianas es el segundo que menos commits de este tipo tiene, por lo que no es muy significativa esa diferencia mediana. El segundo (compass4nfv) es el tercero que más commits de este tipo tiene así que en este caso la diferencia mediana sí puede ser indicativa. Los casos de fuel y apex también son interesantes dado que son los dos que más commits de merge master/stable tienen y también se encuentran entre las primeras posiciones de este ranking."
   ]
  },
  {
   "cell_type": "markdown",
   "metadata": {},
   "source": [
    "# RATIO COMMITS/AUTHORS BY REPO"
   ]
  }
 ],
 "metadata": {
  "kernelspec": {
   "display_name": "Python [intro]",
   "language": "python",
   "name": "Python [intro]"
  },
  "language_info": {
   "codemirror_mode": {
    "name": "ipython",
    "version": 3
   },
   "file_extension": ".py",
   "mimetype": "text/x-python",
   "name": "python",
   "nbconvert_exporter": "python",
   "pygments_lexer": "ipython3",
   "version": "3.5.2"
  }
 },
 "nbformat": 4,
 "nbformat_minor": 0
}
