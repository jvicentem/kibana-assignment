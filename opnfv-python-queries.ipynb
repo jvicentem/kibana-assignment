{
 "cells": [
  {
   "cell_type": "code",
   "execution_count": 2,
   "metadata": {
    "collapsed": false
   },
   "outputs": [],
   "source": [
    "%matplotlib inline\n",
    "\n",
    "import numpy as np\n",
    "import pandas as pd\n",
    "from elasticsearch import Elasticsearch\n",
    "from elasticsearch_dsl import Q, Search\n",
    "from datetime import datetime\n",
    "\n",
    "client = Elasticsearch([\"http://127.0.0.1:9200\"])\n",
    "\n",
    "INDEX = \"openfv\""
   ]
  },
  {
   "cell_type": "markdown",
   "metadata": {},
   "source": [
    "# COMMITS (MERGES) TO MASTER/STABLE BRANCHES BY REPO"
   ]
  },
  {
   "cell_type": "code",
   "execution_count": 172,
   "metadata": {
    "collapsed": false
   },
   "outputs": [
    {
     "data": {
      "text/html": [
       "<div>\n",
       "<table border=\"1\" class=\"dataframe\">\n",
       "  <thead>\n",
       "    <tr style=\"text-align: right;\">\n",
       "      <th></th>\n",
       "      <th>commits</th>\n",
       "      <th>repo</th>\n",
       "    </tr>\n",
       "  </thead>\n",
       "  <tbody>\n",
       "    <tr>\n",
       "      <th>0</th>\n",
       "      <td>73</td>\n",
       "      <td>git://git.opnfv.org/fuel</td>\n",
       "    </tr>\n",
       "    <tr>\n",
       "      <th>1</th>\n",
       "      <td>54</td>\n",
       "      <td>git://git.opnfv.org/apex</td>\n",
       "    </tr>\n",
       "    <tr>\n",
       "      <th>2</th>\n",
       "      <td>41</td>\n",
       "      <td>git://git.opnfv.org/compass4nfv</td>\n",
       "    </tr>\n",
       "    <tr>\n",
       "      <th>3</th>\n",
       "      <td>30</td>\n",
       "      <td>git://git.opnfv.org/armband</td>\n",
       "    </tr>\n",
       "    <tr>\n",
       "      <th>4</th>\n",
       "      <td>30</td>\n",
       "      <td>git://git.opnfv.org/functest</td>\n",
       "    </tr>\n",
       "    <tr>\n",
       "      <th>5</th>\n",
       "      <td>27</td>\n",
       "      <td>git://git.opnfv.org/releng</td>\n",
       "    </tr>\n",
       "    <tr>\n",
       "      <th>6</th>\n",
       "      <td>15</td>\n",
       "      <td>git://git.opnfv.org/yardstick</td>\n",
       "    </tr>\n",
       "    <tr>\n",
       "      <th>7</th>\n",
       "      <td>14</td>\n",
       "      <td>git://git.opnfv.org/copper</td>\n",
       "    </tr>\n",
       "    <tr>\n",
       "      <th>8</th>\n",
       "      <td>12</td>\n",
       "      <td>git://git.opnfv.org/qtip</td>\n",
       "    </tr>\n",
       "    <tr>\n",
       "      <th>9</th>\n",
       "      <td>11</td>\n",
       "      <td>git://git.opnfv.org/genesis</td>\n",
       "    </tr>\n",
       "  </tbody>\n",
       "</table>\n",
       "</div>"
      ],
      "text/plain": [
       "   commits                             repo\n",
       "0       73         git://git.opnfv.org/fuel\n",
       "1       54         git://git.opnfv.org/apex\n",
       "2       41  git://git.opnfv.org/compass4nfv\n",
       "3       30      git://git.opnfv.org/armband\n",
       "4       30     git://git.opnfv.org/functest\n",
       "5       27       git://git.opnfv.org/releng\n",
       "6       15    git://git.opnfv.org/yardstick\n",
       "7       14       git://git.opnfv.org/copper\n",
       "8       12         git://git.opnfv.org/qtip\n",
       "9       11      git://git.opnfv.org/genesis"
      ]
     },
     "execution_count": 172,
     "metadata": {},
     "output_type": "execute_result"
    }
   ],
   "source": [
    "q = Q('bool', \n",
    "      should=[Q('match', message_analyzed='stable'), Q('match', message_analyzed='master')])\n",
    "s = Search(using=client, index=INDEX).query(q).filter('range', files={'lt': 1})\n",
    "\n",
    "s.aggs.bucket('by_repo', 'terms', field='repo_name', size=10).metric('commits', 'cardinality', field='hash')\n",
    "result = s.execute()\n",
    "\n",
    "buckets = result.to_dict()[\"aggregations\"]['by_repo']['buckets']\n",
    "\n",
    "commits_by_repo = [{'commits': i['commits']['value'], 'repo': i['key']} for i in buckets]\n",
    "\n",
    "merges_to_master = pd.DataFrame(commits_by_repo)\n",
    "\n",
    "first_ten_repos = list(merges_to_master['repo'])\n",
    "\n",
    "merges_to_master"
   ]
  },
  {
   "cell_type": "markdown",
   "metadata": {},
   "source": [
    "Como podemos ver, el ranking de repositorios en función de los merge a ramas master o stable cambia bastante. \n",
    "\n",
    "Consideramos que este ranking puede ser interesante ya que cuando se trabaja con ramas master o stable se está trabajando con versiones de producción, ya bien sea para pasar una nueva funcionalidad a producción, crear nuevas funcionalidades en otras ramas o arreglar bugs."
   ]
  },
  {
   "cell_type": "markdown",
   "metadata": {},
   "source": [
    "# REPO THAT MERGES FASTER TO MASTER/STABLE BRANCH"
   ]
  },
  {
   "cell_type": "code",
   "execution_count": 175,
   "metadata": {
    "collapsed": false
   },
   "outputs": [
    {
     "name": "stdout",
     "output_type": "stream",
     "text": [
      "Average day diff by repo\n",
      "repo\n",
      "git://git.opnfv.org/fuel            5.777752\n",
      "git://git.opnfv.org/apex            7.722825\n",
      "git://git.opnfv.org/compass4nfv    10.765165\n",
      "git://git.opnfv.org/armband        11.015622\n",
      "git://git.opnfv.org/copper         12.905901\n",
      "git://git.opnfv.org/functest       14.284831\n",
      "git://git.opnfv.org/genesis        19.286286\n",
      "git://git.opnfv.org/releng         25.009750\n",
      "git://git.opnfv.org/yardstick      27.967160\n",
      "git://git.opnfv.org/qtip           39.278572\n",
      "Name: diff, dtype: float64\n",
      "\n",
      " Median day diff by repo\n",
      "repo\n",
      "git://git.opnfv.org/qtip            0.007211\n",
      "git://git.opnfv.org/compass4nfv     0.069196\n",
      "git://git.opnfv.org/copper          0.187986\n",
      "git://git.opnfv.org/fuel            0.346453\n",
      "git://git.opnfv.org/apex            0.770671\n",
      "git://git.opnfv.org/armband         2.161215\n",
      "git://git.opnfv.org/yardstick       2.421655\n",
      "git://git.opnfv.org/functest        2.834387\n",
      "git://git.opnfv.org/genesis         3.821493\n",
      "git://git.opnfv.org/releng         16.340521\n",
      "Name: diff, dtype: float64\n"
     ]
    }
   ],
   "source": [
    "q = Q('bool', should=[Q('match', message_analyzed='stable'), Q('match', message_analyzed='master')])\n",
    "s = Search(using=client, index=INDEX).query(q).filter('range', files={'lt': 1})\n",
    "count = s.count()\n",
    "result = s[0:count].execute()\n",
    "\n",
    "date_and_repo_name = [{'date': np.datetime64(i['_source']['utc_commit']), 'repo': i['_source']['repo_name']} \n",
    "                       for i in result[\"hits\"][\"hits\"]]\n",
    "\n",
    "df = pd.DataFrame(date_and_repo_name)\n",
    "\n",
    "df = df[df['repo'].isin(first_ten_repos)]\n",
    "\n",
    "df['diff'] = (df.sort_values(by='date')\n",
    " .groupby('repo')\n",
    " .diff()\n",
    ") \n",
    "\n",
    "df['diff'] = df['diff'] / np.timedelta64(1, 'D')\n",
    "\n",
    "print('Average day diff by repo')\n",
    "print(df.groupby('repo')['diff'].mean().sort_values(inplace=False))\n",
    "\n",
    "print('\\n Median day diff by repo')\n",
    "print(df.groupby('repo')['diff'].median().sort_values(inplace=False))"
   ]
  },
  {
   "cell_type": "markdown",
   "metadata": {},
   "source": [
    "Aquí se puede ver la diferencia de días media (arriba) y mediana (abajo) para cada repositorio. Sólo se han tenido en cuenta los 10 primeros repositorios, que son los que se muestran en la tabla anterior a estas.\n",
    "\n",
    "En la tabla de las medias, se aprecia que no cambia mucho con respecto a la del número de merges de master/stable, pero si nos fijamos en la tabla de las medianas hay cambios en las primeras posiciones. \n",
    "\n",
    "El primer repositorio que aparece en la tabla de las medianas es el segundo que menos commits de este tipo tiene, por lo que no es muy significativa esa diferencia mediana. El segundo (compass4nfv) es el tercero que más commits de este tipo tiene así que en este caso la diferencia mediana sí puede ser indicativa. Los casos de fuel y apex también son interesantes dado que son los dos que más commits de merge master/stable tienen y también se encuentran entre las primeras posiciones de este ranking."
   ]
  },
  {
   "cell_type": "markdown",
   "metadata": {},
   "source": [
    "# COMMITS/AUTHORS BY REPO"
   ]
  },
  {
   "cell_type": "code",
   "execution_count": 28,
   "metadata": {
    "collapsed": false
   },
   "outputs": [],
   "source": [
    "#q_commits = Q('bool', should=[Q('match', message_analyzed='stable'), Q('match', message_analyzed='master')])\n",
    "#s_commits = Search(using=client, index=INDEX).query(q).filter('range', files={'lt': 1})\n",
    "\n",
    "#(s_commits.aggs.bucket('by_repo', 'terms', field='repo_name')\n",
    "# .metric('commits', 'cardinality', field='hash')\n",
    "#)\n",
    "\n",
    "#count = s_commits.count()\n",
    "#result_commits = s_commits[0:count].execute()\n",
    "\n",
    "#docs_commits = result_commits.to_dict()[\"aggregations\"][\"by_repo\"][\"buckets\"]\n",
    "\n",
    "#s_authors = Search(using=client, index=INDEX)\n",
    "\n",
    "#(s_authors.aggs.bucket('by_repo', 'terms', field='repo_name')\n",
    "# .metric('authors', 'cardinality', field='author_id')\n",
    "#)\n",
    "\n",
    "#result_authors = s_authors.execute()\n",
    "\n",
    "#docs_authors = result_authors.to_dict()[\"aggregations\"][\"by_repo\"][\"buckets\"]\n",
    "\n",
    "#authors_by_repo_dict = {}\n",
    "\n",
    "#for d in docs_authors:\n",
    "#    authors_by_repo_dict[d['key']] = d['authors']['value']\n",
    "    \n",
    "\n",
    "#docs_ratio = [{'repo': d['key'], \n",
    "#             'commits': d['commits']['value'], \n",
    "#             'devs': authors_by_repo_dict[d['key']], \n",
    "#             'ratio': d['commits']['value']/authors_by_repo_dict[d['key']]} \n",
    "#            for d in docs_commits]\n",
    "\n",
    "#pd.DataFrame(docs_ratio)"
   ]
  },
  {
   "cell_type": "code",
   "execution_count": 40,
   "metadata": {
    "collapsed": false
   },
   "outputs": [
    {
     "data": {
      "text/html": [
       "<div>\n",
       "<table border=\"1\" class=\"dataframe\">\n",
       "  <thead>\n",
       "    <tr style=\"text-align: right;\">\n",
       "      <th></th>\n",
       "      <th>commits</th>\n",
       "      <th>devs</th>\n",
       "      <th>ratio</th>\n",
       "      <th>repo</th>\n",
       "    </tr>\n",
       "  </thead>\n",
       "  <tbody>\n",
       "    <tr>\n",
       "      <th>7</th>\n",
       "      <td>722</td>\n",
       "      <td>21</td>\n",
       "      <td>34.380952</td>\n",
       "      <td>git://git.opnfv.org/joid</td>\n",
       "    </tr>\n",
       "    <tr>\n",
       "      <th>4</th>\n",
       "      <td>847</td>\n",
       "      <td>38</td>\n",
       "      <td>22.289474</td>\n",
       "      <td>git://git.opnfv.org/apex</td>\n",
       "    </tr>\n",
       "    <tr>\n",
       "      <th>1</th>\n",
       "      <td>1800</td>\n",
       "      <td>88</td>\n",
       "      <td>20.454545</td>\n",
       "      <td>git://git.opnfv.org/functest</td>\n",
       "    </tr>\n",
       "    <tr>\n",
       "      <th>0</th>\n",
       "      <td>2472</td>\n",
       "      <td>128</td>\n",
       "      <td>19.312500</td>\n",
       "      <td>git://git.opnfv.org/releng</td>\n",
       "    </tr>\n",
       "    <tr>\n",
       "      <th>6</th>\n",
       "      <td>743</td>\n",
       "      <td>40</td>\n",
       "      <td>18.575000</td>\n",
       "      <td>git://git.opnfv.org/compass4nfv</td>\n",
       "    </tr>\n",
       "    <tr>\n",
       "      <th>2</th>\n",
       "      <td>968</td>\n",
       "      <td>54</td>\n",
       "      <td>17.925926</td>\n",
       "      <td>git://git.opnfv.org/armband</td>\n",
       "    </tr>\n",
       "    <tr>\n",
       "      <th>9</th>\n",
       "      <td>456</td>\n",
       "      <td>28</td>\n",
       "      <td>16.285714</td>\n",
       "      <td>git://git.opnfv.org/qtip</td>\n",
       "    </tr>\n",
       "    <tr>\n",
       "      <th>5</th>\n",
       "      <td>776</td>\n",
       "      <td>53</td>\n",
       "      <td>14.641509</td>\n",
       "      <td>git://git.opnfv.org/fuel</td>\n",
       "    </tr>\n",
       "    <tr>\n",
       "      <th>3</th>\n",
       "      <td>908</td>\n",
       "      <td>66</td>\n",
       "      <td>13.757576</td>\n",
       "      <td>git://git.opnfv.org/yardstick</td>\n",
       "    </tr>\n",
       "    <tr>\n",
       "      <th>8</th>\n",
       "      <td>476</td>\n",
       "      <td>39</td>\n",
       "      <td>12.205128</td>\n",
       "      <td>git://git.opnfv.org/vswitchperf</td>\n",
       "    </tr>\n",
       "  </tbody>\n",
       "</table>\n",
       "</div>"
      ],
      "text/plain": [
       "   commits  devs      ratio                             repo\n",
       "7      722    21  34.380952         git://git.opnfv.org/joid\n",
       "4      847    38  22.289474         git://git.opnfv.org/apex\n",
       "1     1800    88  20.454545     git://git.opnfv.org/functest\n",
       "0     2472   128  19.312500       git://git.opnfv.org/releng\n",
       "6      743    40  18.575000  git://git.opnfv.org/compass4nfv\n",
       "2      968    54  17.925926      git://git.opnfv.org/armband\n",
       "9      456    28  16.285714         git://git.opnfv.org/qtip\n",
       "5      776    53  14.641509         git://git.opnfv.org/fuel\n",
       "3      908    66  13.757576    git://git.opnfv.org/yardstick\n",
       "8      476    39  12.205128  git://git.opnfv.org/vswitchperf"
      ]
     },
     "execution_count": 40,
     "metadata": {},
     "output_type": "execute_result"
    }
   ],
   "source": [
    "# En Kibana fue necesario ir a la pestaña Dev Tools y hacer esto: \n",
    "#PUT _settings\n",
    "#{ \"index\" : { \"max_result_window\" : 500000 } }\n",
    "\n",
    "s = Search(using=client, index=INDEX).filter('range', files={'gt':0})\n",
    "\n",
    "(s.aggs.bucket('by_repo', 'terms', field='repo_name', size=10)\n",
    " .metric('commits', 'cardinality', field='hash')\n",
    " .metric('devs', 'cardinality', field='author_id')\n",
    ")\n",
    "\n",
    "count = s.count()\n",
    "result = s[0:count].execute()\n",
    "\n",
    "docs = result.to_dict()[\"aggregations\"][\"by_repo\"][\"buckets\"]\n",
    "\n",
    "docs = [{'repo': d['key'], \n",
    "        'commits': d['commits']['value'], \n",
    "        'devs': d['devs']['value'], \n",
    "        'ratio': d['commits']['value']/d['devs']['value']} \n",
    "       for d in docs]\n",
    "\n",
    "pd.DataFrame(docs).sort_values(by='ratio', ascending=False)"
   ]
  },
  {
   "cell_type": "markdown",
   "metadata": {},
   "source": [
    "En cuanto a commits por autor de cada repositorio, se observa que \"apex\" es el que segundo mejor ratio tiene. \"compass4nfv\" se encuentra ligeramente por encima del valor de ratio mediano. En esta tabla sale peor parada \"fuel\" que está muy abajo.\n",
    "\n",
    "Con los tres últimos apartados uno se puede hacer una idea de qué repositorio tiene los equipos de desarrolladores que más rápido trabajan (sacan versiones estables, arreglan fallos sobre versiones estables, entre otros) sobre master/stable y además, en general, cuántos commits por desarrollador hay por proyecto.\n",
    "\n",
    "Las empresas que mejor posicionadas están conforme los tres últimos apartados son \"apex\", \"fuel\" y \"compass4nfv\". Dado que \"fuel\", como hemos comentado, aparece muy baja en esta última tabla, podríamos decir que los equipos de desarrollo de \"apex\" y \"compass4nfv\" son los más interesantes en cuanto a contribuciones y trabajo sobre master/stable.\n",
    "\n",
    "Si se mira la serie temporal de commits de la visualización de Kibana, \"apex\" parece tener un número de commits mensual más alto que \"compass4nfv\", por lo que si se quisiera invertir por un proyecto quizás invertiríamos por \"apex\"."
   ]
  }
 ],
 "metadata": {
  "kernelspec": {
   "display_name": "Python [intro]",
   "language": "python",
   "name": "Python [intro]"
  },
  "language_info": {
   "codemirror_mode": {
    "name": "ipython",
    "version": 3
   },
   "file_extension": ".py",
   "mimetype": "text/x-python",
   "name": "python",
   "nbconvert_exporter": "python",
   "pygments_lexer": "ipython3",
   "version": "3.5.2"
  }
 },
 "nbformat": 4,
 "nbformat_minor": 0
}
